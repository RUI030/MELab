{
  "nbformat": 4,
  "nbformat_minor": 0,
  "metadata": {
    "colab": {
      "name": "MELab4.ipynb",
      "provenance": [],
      "collapsed_sections": [],
      "authorship_tag": "ABX9TyPF1gt1wrEJq063zJAXdFLS",
      "include_colab_link": true
    },
    "kernelspec": {
      "name": "python3",
      "display_name": "Python 3"
    },
    "language_info": {
      "name": "python"
    }
  },
  "cells": [
    {
      "cell_type": "markdown",
      "metadata": {
        "id": "view-in-github",
        "colab_type": "text"
      },
      "source": [
        "<a href=\"https://colab.research.google.com/github/RUI030/MELab/blob/main/EXP%20-%204%20DC%20calculator.ipynb\" target=\"_parent\"><img src=\"https://colab.research.google.com/assets/colab-badge.svg\" alt=\"Open In Colab\"/></a>"
      ]
    },
    {
      "cell_type": "markdown",
      "source": [
        "# **DC**"
      ],
      "metadata": {
        "id": "rDz1juRUmQCP"
      }
    },
    {
      "cell_type": "code",
      "execution_count": null,
      "metadata": {
        "colab": {
          "base_uri": "https://localhost:8080/"
        },
        "id": "PkC_ArEelMbs",
        "outputId": "7d2188df-7230-4408-a0bf-f64c4adfb4b2"
      },
      "outputs": [
        {
          "output_type": "stream",
          "name": "stdout",
          "text": [
            "Vbe = 0.630\n",
            "Vce = 3.330\n",
            "Ic = 90.000\n",
            "Ib = 605.152\n",
            "β = 149\n"
          ]
        }
      ],
      "source": [
        "#circuit\n",
        "Vcc = 10\n",
        "R1 = 1e3\n",
        "R2 = 3.3e3\n",
        "Rc = 1\n",
        "Re = 50\n",
        "\n",
        "#data\n",
        "Vb = 7.21\n",
        "Vc = 9.91\n",
        "Ve = 6.58\n",
        "\n",
        "#calculation\n",
        "Vbe = Vb - Ve\n",
        "Vce = Vc - Ve\n",
        "Ic = (Vcc - Vc)/Rc\n",
        "Ib = (Vcc-Vb)/R1 - Vb/R2\n",
        "beta = Ic/Ib\n",
        "\n",
        "#mA\n",
        "Icm = Ic*1e3\n",
        "#uA\n",
        "Ibu = Ib*1e6\n",
        "\n",
        "#print\n",
        "print('Vbe =','%.3f'%Vbe)\n",
        "print('Vce =','%.3f'%Vce)\n",
        "print('Ic =','%.3f'%Icm)\n",
        "print('Ib =','%.3f'%Ibu)\n",
        "print('β =','%.0f'%beta)"
      ]
    }
  ]
}